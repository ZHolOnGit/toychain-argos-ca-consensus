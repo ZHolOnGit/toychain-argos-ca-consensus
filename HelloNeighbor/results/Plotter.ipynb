{
 "cells": [
  {
   "metadata": {},
   "cell_type": "markdown",
   "source": "Code to extract the frequency estimates from the no byzantine with varied white tiles test",
   "id": "5afb2f5b12de1573"
  },
  {
   "cell_type": "code",
   "id": "initial_id",
   "metadata": {
    "collapsed": true,
    "ExecuteTime": {
     "end_time": "2025-04-21T18:29:47.373033Z",
     "start_time": "2025-04-21T18:29:47.249392Z"
    }
   },
   "source": [
    "import random\n",
    "import pandas as pd\n",
    "\n",
    "# folder_names = [\"0.1\",\"0.2\",\"0.3\",\"0.4\",\"0.5\",\"0.6\",\"0.7\"]\n",
    "folder_names = [\"experiment_test1\"]\n",
    "number_of_experiments = 10\n",
    "number_of_robots = 20\n",
    "#In this context, an experiment refers to a set of 10 (subject to change) runs of the simulation with that config\n",
    "\n",
    "\n",
    "def get_estimates_from_experiment(folder_names, number_of_experiments, number_of_robots):\n",
    "    estimate_list = []\n",
    "    estimate_df = pd.DataFrame(columns=[\"Tile Percentage\", \"Estimate\"])\n",
    "    for folder_name in folder_names:\n",
    "        path_to_data = \"data\" + \"/\" + folder_name + \"/\"\n",
    "        for i in range(1,number_of_experiments):\n",
    "            folder_number = str(i).zfill(3)\n",
    "            robot_picked = random.randint(1,number_of_robots)\n",
    "            path_to_robot = path_to_data + folder_number + \"/\" + str(robot_picked) + \"/\" + \"sc.csv\"\n",
    "\n",
    "            df = pd.read_csv(path_to_robot, sep=\" \")\n",
    "            print(df.columns)\n",
    "            print(\"here\")\n",
    "            if \"Estimate\" in df.columns:\n",
    "                last_estimate = df[\"Estimate\"].iloc[-1]\n",
    "                estimate_list.append(last_estimate)\n",
    "                new_row = pd.DataFrame([[folder_name, last_estimate]], columns=estimate_df.columns)\n",
    "                estimate_df = pd.concat([estimate_df, new_row], ignore_index=True)\n",
    "\n",
    "    print(estimate_df)\n",
    "    estimate_df.to_csv(\"vary_tiles_no_byzantine\" + \".csv\", index=False)\n",
    "\n",
    "\n",
    "get_estimates_from_experiment(folder_names, number_of_experiments, number_of_robots)"
   ],
   "outputs": [
    {
     "name": "stdout",
     "output_type": "stream",
     "text": [
      "Index(['ID', 'TIME', 'TIMESTAMP', 'BLOCK', 'HASH', 'PHASH', 'BALANCE',\n",
      "       'TX_COUNT', 'Estimate', 'Byzantine'],\n",
      "      dtype='object')\n",
      "here\n",
      "Index(['ID', 'TIME', 'TIMESTAMP', 'BLOCK', 'HASH', 'PHASH', 'BALANCE',\n",
      "       'TX_COUNT', 'Estimate', 'Byzantine'],\n",
      "      dtype='object')\n",
      "here\n",
      "Index(['ID', 'TIME', 'TIMESTAMP', 'BLOCK', 'HASH', 'PHASH', 'BALANCE',\n",
      "       'TX_COUNT', 'Estimate', 'Byzantine'],\n",
      "      dtype='object')\n",
      "here\n",
      "Index(['ID', 'TIME', 'TIMESTAMP', 'BLOCK', 'HASH', 'PHASH', 'BALANCE',\n",
      "       'TX_COUNT', 'Estimate', 'Byzantine'],\n",
      "      dtype='object')\n",
      "here\n",
      "Index(['ID', 'TIME', 'TIMESTAMP', 'BLOCK', 'HASH', 'PHASH', 'BALANCE',\n",
      "       'TX_COUNT', 'Estimate', 'Byzantine'],\n",
      "      dtype='object')\n",
      "here\n",
      "Index(['ID', 'TIME', 'TIMESTAMP', 'BLOCK', 'HASH', 'PHASH', 'BALANCE',\n",
      "       'TX_COUNT', 'Estimate', 'Byzantine'],\n",
      "      dtype='object')\n",
      "here\n",
      "Index(['ID', 'TIME', 'TIMESTAMP', 'BLOCK', 'HASH', 'PHASH', 'BALANCE',\n",
      "       'TX_COUNT', 'Estimate', 'Byzantine'],\n",
      "      dtype='object')\n",
      "here\n",
      "Index(['ID', 'TIME', 'TIMESTAMP', 'BLOCK', 'HASH', 'PHASH', 'BALANCE',\n",
      "       'TX_COUNT', 'Estimate', 'Byzantine'],\n",
      "      dtype='object')\n",
      "here\n",
      "Index(['ID', 'TIME', 'TIMESTAMP', 'BLOCK', 'HASH', 'PHASH', 'BALANCE',\n",
      "       'TX_COUNT', 'Estimate', 'Byzantine'],\n",
      "      dtype='object')\n",
      "here\n",
      "    Tile Percentage  Estimate\n",
      "0  experiment_test1  0.068995\n",
      "1  experiment_test1  0.077997\n",
      "2  experiment_test1  0.139147\n",
      "3  experiment_test1  0.100225\n",
      "4  experiment_test1  0.125198\n",
      "5  experiment_test1  0.086177\n",
      "6  experiment_test1  0.078502\n",
      "7  experiment_test1  0.097113\n",
      "8  experiment_test1  0.117443\n"
     ]
    },
    {
     "name": "stderr",
     "output_type": "stream",
     "text": [
      "/tmp/ipykernel_16267/409163600.py:28: FutureWarning: The behavior of DataFrame concatenation with empty or all-NA entries is deprecated. In a future version, this will no longer exclude empty or all-NA columns when determining the result dtypes. To retain the old behavior, exclude the relevant entries before the concat operation.\n",
      "  estimate_df = pd.concat([estimate_df, new_row], ignore_index=True)\n"
     ]
    }
   ],
   "execution_count": 14
  }
 ],
 "metadata": {
  "kernelspec": {
   "display_name": "Python 3",
   "language": "python",
   "name": "python3"
  },
  "language_info": {
   "codemirror_mode": {
    "name": "ipython",
    "version": 2
   },
   "file_extension": ".py",
   "mimetype": "text/x-python",
   "name": "python",
   "nbconvert_exporter": "python",
   "pygments_lexer": "ipython2",
   "version": "2.7.6"
  }
 },
 "nbformat": 4,
 "nbformat_minor": 5
}
